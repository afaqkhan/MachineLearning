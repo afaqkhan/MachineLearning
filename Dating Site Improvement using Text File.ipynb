{
 "cells": [
  {
   "cell_type": "code",
   "execution_count": 310,
   "metadata": {
    "collapsed": true
   },
   "outputs": [],
   "source": [
    "import numpy as np\n",
    "import pandas as pd\n",
    "from sklearn import preprocessing\n",
    "from sklearn.neighbors import KNeighborsClassifier"
   ]
  },
  {
   "cell_type": "code",
   "execution_count": 311,
   "metadata": {
    "collapsed": false
   },
   "outputs": [],
   "source": [
    "def file2matrix(filename):\n",
    "    fr =open(filename)\n",
    "    numberOfLines = len(fr.readlines())\n",
    "    returnMat = np.zeros((numberOfLines,3))\n",
    "    #classLabelVector =  np.chararray((numberOfLines, 1))\n",
    "    classLabelVector =  []\n",
    "    fr = open(filename)\n",
    "    i=0\n",
    "    for line in fr.readlines():\n",
    "        line = line.strip()\n",
    "        listFromLine = line.split('\\t')\n",
    "        returnMat[i,:] = listFromLine[0:3]\n",
    "        classLabelVector.append(listFromLine[-1])\n",
    "        i = i+1\n",
    "    return returnMat, classLabelVector"
   ]
  },
  {
   "cell_type": "code",
   "execution_count": 312,
   "metadata": {
    "collapsed": false,
    "scrolled": true
   },
   "outputs": [],
   "source": [
    "datingDataMat, datingLabels = file2matrix('datingTestSet.txt')"
   ]
  },
  {
   "cell_type": "code",
   "execution_count": 313,
   "metadata": {
    "collapsed": false
   },
   "outputs": [
    {
     "data": {
      "text/plain": [
       "array([[  4.09200000e+04,   8.32697600e+00,   9.53952000e-01],\n",
       "       [  1.44880000e+04,   7.15346900e+00,   1.67390400e+00],\n",
       "       [  2.60520000e+04,   1.44187100e+00,   8.05124000e-01],\n",
       "       [  7.51360000e+04,   1.31473940e+01,   4.28964000e-01],\n",
       "       [  3.83440000e+04,   1.66978800e+00,   1.34296000e-01],\n",
       "       [  7.29930000e+04,   1.01417400e+01,   1.03295500e+00],\n",
       "       [  3.59480000e+04,   6.83079200e+00,   1.21319200e+00],\n",
       "       [  4.26660000e+04,   1.32763690e+01,   5.43880000e-01],\n",
       "       [  6.74970000e+04,   8.63157700e+00,   7.49278000e-01],\n",
       "       [  3.54830000e+04,   1.22731690e+01,   1.50805300e+00]])"
      ]
     },
     "execution_count": 313,
     "metadata": {},
     "output_type": "execute_result"
    }
   ],
   "source": [
    "datingDataMat[0:10,:]"
   ]
  },
  {
   "cell_type": "code",
   "execution_count": 314,
   "metadata": {
    "collapsed": false
   },
   "outputs": [
    {
     "data": {
      "text/plain": [
       "['largeDoses', 'smallDoses', 'didntLike', 'didntLike', 'didntLike']"
      ]
     },
     "execution_count": 314,
     "metadata": {},
     "output_type": "execute_result"
    }
   ],
   "source": [
    "datingLabels[0:5]"
   ]
  },
  {
   "cell_type": "code",
   "execution_count": 315,
   "metadata": {
    "collapsed": true
   },
   "outputs": [],
   "source": [
    "datingDataMatNorm = preprocessing.normalize(datingDataMat)"
   ]
  },
  {
   "cell_type": "code",
   "execution_count": 316,
   "metadata": {
    "collapsed": false
   },
   "outputs": [],
   "source": [
    "from sklearn.cross_validation import train_test_split\n",
    "X_train, X_test, Y_train, Y_test = train_test_split(datingDataMatNorm, datingLabels, test_size=0.2)\n",
    "#print ('Train set:', X_train.shape,  Y_train.shape)\n",
    "#print ('Test set:', X_test.shape,  Y_test.shape)"
   ]
  },
  {
   "cell_type": "code",
   "execution_count": 317,
   "metadata": {
    "collapsed": false
   },
   "outputs": [
    {
     "data": {
      "text/plain": [
       "KNeighborsClassifier(algorithm='auto', leaf_size=30, metric='minkowski',\n",
       "           metric_params=None, n_jobs=1, n_neighbors=3, p=2,\n",
       "           weights='uniform')"
      ]
     },
     "execution_count": 317,
     "metadata": {},
     "output_type": "execute_result"
    }
   ],
   "source": [
    "k = 3\n",
    "#Train Model and Predict  \n",
    "neigh = KNeighborsClassifier(n_neighbors = k).fit(X_train,Y_train)\n",
    "neigh"
   ]
  },
  {
   "cell_type": "code",
   "execution_count": 318,
   "metadata": {
    "collapsed": false
   },
   "outputs": [
    {
     "data": {
      "text/plain": [
       "array([[  9.99999992e-01,   1.21904873e-04,   1.52344641e-05],\n",
       "       [  9.99999992e-01,   1.22494524e-04,   2.06825499e-05],\n",
       "       [  9.99999994e-01,   9.61895308e-05,   5.85752767e-05],\n",
       "       [  9.99999976e-01,   2.20226049e-04,   3.20715029e-07],\n",
       "       [  9.99999994e-01,   1.03454098e-04,   1.77809285e-05]])"
      ]
     },
     "execution_count": 318,
     "metadata": {},
     "output_type": "execute_result"
    }
   ],
   "source": [
    "X_train[0:5]"
   ]
  },
  {
   "cell_type": "code",
   "execution_count": 319,
   "metadata": {
    "collapsed": false
   },
   "outputs": [
    {
     "name": "stdout",
     "output_type": "stream",
     "text": [
      "143\n",
      "56\n",
      "0.7185929648241206\n"
     ]
    }
   ],
   "source": [
    "#print(X_train[21,:])\n",
    "#print(Y_train[21])\n",
    "\n",
    "yhat = neigh.predict(X_test)\n",
    "#yhat[21]\n",
    "\n",
    "right = 0\n",
    "wrong = 0\n",
    "for j in range(199):\n",
    "    #print(Y_train[j])\n",
    "    #print( yhat[j])\n",
    "    if (Y_test[j] == yhat[j]):\n",
    "        #print(\"right ans\")\n",
    "        right = right +1\n",
    "    else :\n",
    "        #print(\"wrong ans\")\n",
    "        wrong = wrong +1\n",
    "print (right)\n",
    "print (wrong)\n",
    "percent = right/199\n",
    "print (percent)\n",
    "\n"
   ]
  }
 ],
 "metadata": {
  "kernelspec": {
   "display_name": "Python 3",
   "language": "python",
   "name": "python3"
  },
  "language_info": {
   "codemirror_mode": {
    "name": "ipython",
    "version": 3
   },
   "file_extension": ".py",
   "mimetype": "text/x-python",
   "name": "python",
   "nbconvert_exporter": "python",
   "pygments_lexer": "ipython3",
   "version": "3.5.4"
  }
 },
 "nbformat": 4,
 "nbformat_minor": 0
}
