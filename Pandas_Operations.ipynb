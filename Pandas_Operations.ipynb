{
 "cells": [
  {
   "cell_type": "code",
   "execution_count": 49,
   "metadata": {
    "collapsed": true
   },
   "outputs": [],
   "source": [
    "import pandas as pd"
   ]
  },
  {
   "cell_type": "code",
   "execution_count": 50,
   "metadata": {
    "collapsed": true
   },
   "outputs": [],
   "source": [
    "Presc = pd.read_csv(\"C:\\\\Users\\\\Afaq\\\\Documents\\\\Sample_Data\\\\Prescription.csv\")\n",
    "PM= pd.read_csv(\"C:\\\\Users\\\\Afaq\\\\Documents\\\\Sample_Data\\\\Pharm_mast.csv\")"
   ]
  },
  {
   "cell_type": "code",
   "execution_count": 51,
   "metadata": {
    "collapsed": false,
    "scrolled": true
   },
   "outputs": [],
   "source": [
    "Presc = pd.DataFrame(Presc)\n",
    "Presc = Presc.set_index([\"PHARMACY_CODE\"])\n",
    "PM = pd.DataFrame(PM)\n",
    "PM = PM.set_index([\"PHARMACY_CODE\"])"
   ]
  },
  {
   "cell_type": "code",
   "execution_count": 52,
   "metadata": {
    "collapsed": false
   },
   "outputs": [
    {
     "name": "stdout",
     "output_type": "stream",
     "text": [
      "                  RX_NUM  RES_CODE  DAYS_SUPPY          NDC\n",
      "PHARMACY_CODE                                              \n",
      "1              1234566.1     12345          10  12345678911\n",
      "1              1234567.1     12346          20  12345678912\n",
      "2              1234568.1     12347          30  12345678913\n",
      "2              1234569.1     12348          40  12345678913\n",
      "5              1234570.1     12349          30  12345678915\n",
      "5              1234571.1     12350          40  12345678916\n"
     ]
    }
   ],
   "source": [
    "print(Presc)"
   ]
  },
  {
   "cell_type": "code",
   "execution_count": 53,
   "metadata": {
    "collapsed": false
   },
   "outputs": [
    {
     "name": "stdout",
     "output_type": "stream",
     "text": [
      "              PHARMACY_NAME\n",
      "PHARMACY_CODE              \n",
      "1                PHARMACY_1\n",
      "2                PHARMACY_2\n",
      "3                PHARMACY_3\n",
      "4                PHARMACY_4\n"
     ]
    }
   ],
   "source": [
    "print(PM)"
   ]
  },
  {
   "cell_type": "code",
   "execution_count": 54,
   "metadata": {
    "collapsed": false
   },
   "outputs": [],
   "source": [
    "Joined = Presc.join(PM)"
   ]
  },
  {
   "cell_type": "code",
   "execution_count": 55,
   "metadata": {
    "collapsed": false
   },
   "outputs": [
    {
     "name": "stdout",
     "output_type": "stream",
     "text": [
      "                  RX_NUM  RES_CODE  DAYS_SUPPY          NDC PHARMACY_NAME\n",
      "PHARMACY_CODE                                                            \n",
      "1              1234566.1     12345          10  12345678911    PHARMACY_1\n",
      "1              1234567.1     12346          20  12345678912    PHARMACY_1\n",
      "2              1234568.1     12347          30  12345678913    PHARMACY_2\n",
      "2              1234569.1     12348          40  12345678913    PHARMACY_2\n",
      "5              1234570.1     12349          30  12345678915           NaN\n",
      "5              1234571.1     12350          40  12345678916           NaN\n"
     ]
    }
   ],
   "source": [
    "print(Joined)"
   ]
  },
  {
   "cell_type": "code",
   "execution_count": 81,
   "metadata": {
    "collapsed": false
   },
   "outputs": [],
   "source": [
    "Joined = Joined.fillna(0)"
   ]
  },
  {
   "cell_type": "code",
   "execution_count": 82,
   "metadata": {
    "collapsed": false
   },
   "outputs": [
    {
     "name": "stdout",
     "output_type": "stream",
     "text": [
      "                  RX_NUM  RES_CODE  DAYS_SUPPY          NDC PHARMACY_NAME\n",
      "PHARMACY_CODE                                                            \n",
      "1              1234566.1     12345          10  12345678911    PHARMACY_1\n",
      "1              1234567.1     12346          20  12345678912    PHARMACY_1\n",
      "2              1234568.1     12347          30  12345678913    PHARMACY_2\n",
      "2              1234569.1     12348          40  12345678913    PHARMACY_2\n",
      "5              1234570.1     12349          30  12345678915             0\n",
      "5              1234571.1     12350          40  12345678916             0\n"
     ]
    }
   ],
   "source": [
    "print(Joined)"
   ]
  },
  {
   "cell_type": "code",
   "execution_count": 86,
   "metadata": {
    "collapsed": false
   },
   "outputs": [
    {
     "data": {
      "text/html": [
       "<div>\n",
       "<table border=\"1\" class=\"dataframe\">\n",
       "  <thead>\n",
       "    <tr style=\"text-align: right;\">\n",
       "      <th></th>\n",
       "      <th>RX_NUM</th>\n",
       "      <th>RES_CODE</th>\n",
       "      <th>DAYS_SUPPY</th>\n",
       "      <th>NDC</th>\n",
       "      <th>PHARMACY_NAME</th>\n",
       "    </tr>\n",
       "    <tr>\n",
       "      <th>PHARMACY_CODE</th>\n",
       "      <th></th>\n",
       "      <th></th>\n",
       "      <th></th>\n",
       "      <th></th>\n",
       "      <th></th>\n",
       "    </tr>\n",
       "  </thead>\n",
       "  <tbody>\n",
       "    <tr>\n",
       "      <th>1</th>\n",
       "      <td>1234567.1</td>\n",
       "      <td>12346</td>\n",
       "      <td>20</td>\n",
       "      <td>12345678912</td>\n",
       "      <td>PHARMACY_1</td>\n",
       "    </tr>\n",
       "    <tr>\n",
       "      <th>2</th>\n",
       "      <td>1234568.1</td>\n",
       "      <td>12347</td>\n",
       "      <td>30</td>\n",
       "      <td>12345678913</td>\n",
       "      <td>PHARMACY_2</td>\n",
       "    </tr>\n",
       "    <tr>\n",
       "      <th>2</th>\n",
       "      <td>1234569.1</td>\n",
       "      <td>12348</td>\n",
       "      <td>40</td>\n",
       "      <td>12345678913</td>\n",
       "      <td>PHARMACY_2</td>\n",
       "    </tr>\n",
       "    <tr>\n",
       "      <th>5</th>\n",
       "      <td>1234570.1</td>\n",
       "      <td>12349</td>\n",
       "      <td>30</td>\n",
       "      <td>12345678915</td>\n",
       "      <td>0</td>\n",
       "    </tr>\n",
       "    <tr>\n",
       "      <th>5</th>\n",
       "      <td>1234571.1</td>\n",
       "      <td>12350</td>\n",
       "      <td>40</td>\n",
       "      <td>12345678916</td>\n",
       "      <td>0</td>\n",
       "    </tr>\n",
       "  </tbody>\n",
       "</table>\n",
       "</div>"
      ],
      "text/plain": [
       "                  RX_NUM  RES_CODE  DAYS_SUPPY          NDC PHARMACY_NAME\n",
       "PHARMACY_CODE                                                            \n",
       "1              1234567.1     12346          20  12345678912    PHARMACY_1\n",
       "2              1234568.1     12347          30  12345678913    PHARMACY_2\n",
       "2              1234569.1     12348          40  12345678913    PHARMACY_2\n",
       "5              1234570.1     12349          30  12345678915             0\n",
       "5              1234571.1     12350          40  12345678916             0"
      ]
     },
     "execution_count": 86,
     "metadata": {},
     "output_type": "execute_result"
    }
   ],
   "source": [
    "Joined[1:]"
   ]
  },
  {
   "cell_type": "code",
   "execution_count": 104,
   "metadata": {
    "collapsed": false
   },
   "outputs": [
    {
     "data": {
      "text/html": [
       "<div>\n",
       "<table border=\"1\" class=\"dataframe\">\n",
       "  <thead>\n",
       "    <tr style=\"text-align: right;\">\n",
       "      <th></th>\n",
       "      <th>RX_NUM</th>\n",
       "      <th>RES_CODE</th>\n",
       "      <th>DAYS_SUPPY</th>\n",
       "      <th>NDC</th>\n",
       "    </tr>\n",
       "  </thead>\n",
       "  <tbody>\n",
       "    <tr>\n",
       "      <th>count</th>\n",
       "      <td>6.000000</td>\n",
       "      <td>6.000000</td>\n",
       "      <td>6.000000</td>\n",
       "      <td>6.000000e+00</td>\n",
       "    </tr>\n",
       "    <tr>\n",
       "      <th>mean</th>\n",
       "      <td>1234568.600000</td>\n",
       "      <td>12347.500000</td>\n",
       "      <td>28.333333</td>\n",
       "      <td>1.234568e+10</td>\n",
       "    </tr>\n",
       "    <tr>\n",
       "      <th>std</th>\n",
       "      <td>1.870829</td>\n",
       "      <td>1.870829</td>\n",
       "      <td>11.690452</td>\n",
       "      <td>1.861899e+00</td>\n",
       "    </tr>\n",
       "    <tr>\n",
       "      <th>min</th>\n",
       "      <td>1234566.100000</td>\n",
       "      <td>12345.000000</td>\n",
       "      <td>10.000000</td>\n",
       "      <td>1.234568e+10</td>\n",
       "    </tr>\n",
       "    <tr>\n",
       "      <th>25%</th>\n",
       "      <td>1234567.350000</td>\n",
       "      <td>12346.250000</td>\n",
       "      <td>22.500000</td>\n",
       "      <td>1.234568e+10</td>\n",
       "    </tr>\n",
       "    <tr>\n",
       "      <th>50%</th>\n",
       "      <td>1234568.600000</td>\n",
       "      <td>12347.500000</td>\n",
       "      <td>30.000000</td>\n",
       "      <td>1.234568e+10</td>\n",
       "    </tr>\n",
       "    <tr>\n",
       "      <th>75%</th>\n",
       "      <td>1234569.850000</td>\n",
       "      <td>12348.750000</td>\n",
       "      <td>37.500000</td>\n",
       "      <td>1.234568e+10</td>\n",
       "    </tr>\n",
       "    <tr>\n",
       "      <th>max</th>\n",
       "      <td>1234571.100000</td>\n",
       "      <td>12350.000000</td>\n",
       "      <td>40.000000</td>\n",
       "      <td>1.234568e+10</td>\n",
       "    </tr>\n",
       "  </tbody>\n",
       "</table>\n",
       "</div>"
      ],
      "text/plain": [
       "               RX_NUM      RES_CODE  DAYS_SUPPY           NDC\n",
       "count        6.000000      6.000000    6.000000  6.000000e+00\n",
       "mean   1234568.600000  12347.500000   28.333333  1.234568e+10\n",
       "std          1.870829      1.870829   11.690452  1.861899e+00\n",
       "min    1234566.100000  12345.000000   10.000000  1.234568e+10\n",
       "25%    1234567.350000  12346.250000   22.500000  1.234568e+10\n",
       "50%    1234568.600000  12347.500000   30.000000  1.234568e+10\n",
       "75%    1234569.850000  12348.750000   37.500000  1.234568e+10\n",
       "max    1234571.100000  12350.000000   40.000000  1.234568e+10"
      ]
     },
     "execution_count": 104,
     "metadata": {},
     "output_type": "execute_result"
    }
   ],
   "source": [
    "Joined.describe()"
   ]
  },
  {
   "cell_type": "code",
   "execution_count": 108,
   "metadata": {
    "collapsed": false
   },
   "outputs": [],
   "source": [
    "Joined.reset_index(inplace=True)"
   ]
  },
  {
   "cell_type": "code",
   "execution_count": 109,
   "metadata": {
    "collapsed": true
   },
   "outputs": [],
   "source": [
    "Joined.set_index('PHARMACY_CODE', inplace=True)"
   ]
  },
  {
   "cell_type": "code",
   "execution_count": 111,
   "metadata": {
    "collapsed": false
   },
   "outputs": [
    {
     "data": {
      "text/html": [
       "<div>\n",
       "<table border=\"1\" class=\"dataframe\">\n",
       "  <thead>\n",
       "    <tr style=\"text-align: right;\">\n",
       "      <th></th>\n",
       "      <th>RX_NUM</th>\n",
       "      <th>RES_CODE</th>\n",
       "      <th>DAYS_SUPPY</th>\n",
       "      <th>NDC</th>\n",
       "      <th>PHARMACY_NAME</th>\n",
       "    </tr>\n",
       "    <tr>\n",
       "      <th>PHARMACY_CODE</th>\n",
       "      <th></th>\n",
       "      <th></th>\n",
       "      <th></th>\n",
       "      <th></th>\n",
       "      <th></th>\n",
       "    </tr>\n",
       "  </thead>\n",
       "  <tbody>\n",
       "    <tr>\n",
       "      <th>1</th>\n",
       "      <td>1234566.1</td>\n",
       "      <td>12345</td>\n",
       "      <td>10</td>\n",
       "      <td>12345678911</td>\n",
       "      <td>PHARMACY_1</td>\n",
       "    </tr>\n",
       "    <tr>\n",
       "      <th>1</th>\n",
       "      <td>1234567.1</td>\n",
       "      <td>12346</td>\n",
       "      <td>20</td>\n",
       "      <td>12345678912</td>\n",
       "      <td>PHARMACY_1</td>\n",
       "    </tr>\n",
       "    <tr>\n",
       "      <th>2</th>\n",
       "      <td>1234568.1</td>\n",
       "      <td>12347</td>\n",
       "      <td>30</td>\n",
       "      <td>12345678913</td>\n",
       "      <td>PHARMACY_2</td>\n",
       "    </tr>\n",
       "    <tr>\n",
       "      <th>2</th>\n",
       "      <td>1234569.1</td>\n",
       "      <td>12348</td>\n",
       "      <td>40</td>\n",
       "      <td>12345678913</td>\n",
       "      <td>PHARMACY_2</td>\n",
       "    </tr>\n",
       "    <tr>\n",
       "      <th>5</th>\n",
       "      <td>1234570.1</td>\n",
       "      <td>12349</td>\n",
       "      <td>30</td>\n",
       "      <td>12345678915</td>\n",
       "      <td>0</td>\n",
       "    </tr>\n",
       "    <tr>\n",
       "      <th>5</th>\n",
       "      <td>1234571.1</td>\n",
       "      <td>12350</td>\n",
       "      <td>40</td>\n",
       "      <td>12345678916</td>\n",
       "      <td>0</td>\n",
       "    </tr>\n",
       "  </tbody>\n",
       "</table>\n",
       "</div>"
      ],
      "text/plain": [
       "                  RX_NUM  RES_CODE  DAYS_SUPPY          NDC PHARMACY_NAME\n",
       "PHARMACY_CODE                                                            \n",
       "1              1234566.1     12345          10  12345678911    PHARMACY_1\n",
       "1              1234567.1     12346          20  12345678912    PHARMACY_1\n",
       "2              1234568.1     12347          30  12345678913    PHARMACY_2\n",
       "2              1234569.1     12348          40  12345678913    PHARMACY_2\n",
       "5              1234570.1     12349          30  12345678915             0\n",
       "5              1234571.1     12350          40  12345678916             0"
      ]
     },
     "execution_count": 111,
     "metadata": {},
     "output_type": "execute_result"
    }
   ],
   "source": [
    "Joined"
   ]
  },
  {
   "cell_type": "code",
   "execution_count": 114,
   "metadata": {
    "collapsed": false
   },
   "outputs": [
    {
     "data": {
      "text/html": [
       "<div>\n",
       "<table border=\"1\" class=\"dataframe\">\n",
       "  <thead>\n",
       "    <tr style=\"text-align: right;\">\n",
       "      <th></th>\n",
       "      <th>RX_NUM</th>\n",
       "      <th>RES_CODE</th>\n",
       "      <th>DAYS_SUPPY</th>\n",
       "      <th>NDC</th>\n",
       "      <th>PHARMACY_NAME</th>\n",
       "    </tr>\n",
       "    <tr>\n",
       "      <th>PHARMACY_CODE</th>\n",
       "      <th></th>\n",
       "      <th></th>\n",
       "      <th></th>\n",
       "      <th></th>\n",
       "      <th></th>\n",
       "    </tr>\n",
       "  </thead>\n",
       "  <tbody>\n",
       "    <tr>\n",
       "      <th>1</th>\n",
       "      <td>1234566.1</td>\n",
       "      <td>12345</td>\n",
       "      <td>10</td>\n",
       "      <td>12345678911</td>\n",
       "      <td>PHARMACY_1</td>\n",
       "    </tr>\n",
       "    <tr>\n",
       "      <th>1</th>\n",
       "      <td>1234567.1</td>\n",
       "      <td>12346</td>\n",
       "      <td>20</td>\n",
       "      <td>12345678912</td>\n",
       "      <td>PHARMACY_1</td>\n",
       "    </tr>\n",
       "  </tbody>\n",
       "</table>\n",
       "</div>"
      ],
      "text/plain": [
       "                  RX_NUM  RES_CODE  DAYS_SUPPY          NDC PHARMACY_NAME\n",
       "PHARMACY_CODE                                                            \n",
       "1              1234566.1     12345          10  12345678911    PHARMACY_1\n",
       "1              1234567.1     12346          20  12345678912    PHARMACY_1"
      ]
     },
     "execution_count": 114,
     "metadata": {},
     "output_type": "execute_result"
    }
   ],
   "source": [
    "Joined.loc[1]"
   ]
  },
  {
   "cell_type": "code",
   "execution_count": 115,
   "metadata": {
    "collapsed": false
   },
   "outputs": [
    {
     "data": {
      "text/html": [
       "<div>\n",
       "<table border=\"1\" class=\"dataframe\">\n",
       "  <thead>\n",
       "    <tr style=\"text-align: right;\">\n",
       "      <th></th>\n",
       "      <th>RX_NUM</th>\n",
       "      <th>RES_CODE</th>\n",
       "      <th>DAYS_SUPPY</th>\n",
       "      <th>NDC</th>\n",
       "      <th>PHARMACY_NAME</th>\n",
       "    </tr>\n",
       "    <tr>\n",
       "      <th>PHARMACY_CODE</th>\n",
       "      <th></th>\n",
       "      <th></th>\n",
       "      <th></th>\n",
       "      <th></th>\n",
       "      <th></th>\n",
       "    </tr>\n",
       "  </thead>\n",
       "  <tbody>\n",
       "    <tr>\n",
       "      <th>1</th>\n",
       "      <td>1234566.1</td>\n",
       "      <td>12345</td>\n",
       "      <td>10</td>\n",
       "      <td>12345678911</td>\n",
       "      <td>PHARMACY_1</td>\n",
       "    </tr>\n",
       "    <tr>\n",
       "      <th>1</th>\n",
       "      <td>1234567.1</td>\n",
       "      <td>12346</td>\n",
       "      <td>20</td>\n",
       "      <td>12345678912</td>\n",
       "      <td>PHARMACY_1</td>\n",
       "    </tr>\n",
       "    <tr>\n",
       "      <th>2</th>\n",
       "      <td>1234568.1</td>\n",
       "      <td>12347</td>\n",
       "      <td>30</td>\n",
       "      <td>12345678913</td>\n",
       "      <td>PHARMACY_2</td>\n",
       "    </tr>\n",
       "    <tr>\n",
       "      <th>2</th>\n",
       "      <td>1234569.1</td>\n",
       "      <td>12348</td>\n",
       "      <td>40</td>\n",
       "      <td>12345678913</td>\n",
       "      <td>PHARMACY_2</td>\n",
       "    </tr>\n",
       "    <tr>\n",
       "      <th>5</th>\n",
       "      <td>1234570.1</td>\n",
       "      <td>12349</td>\n",
       "      <td>30</td>\n",
       "      <td>12345678915</td>\n",
       "      <td>0</td>\n",
       "    </tr>\n",
       "    <tr>\n",
       "      <th>5</th>\n",
       "      <td>1234571.1</td>\n",
       "      <td>12350</td>\n",
       "      <td>40</td>\n",
       "      <td>12345678916</td>\n",
       "      <td>0</td>\n",
       "    </tr>\n",
       "  </tbody>\n",
       "</table>\n",
       "</div>"
      ],
      "text/plain": [
       "                  RX_NUM  RES_CODE  DAYS_SUPPY          NDC PHARMACY_NAME\n",
       "PHARMACY_CODE                                                            \n",
       "1              1234566.1     12345          10  12345678911    PHARMACY_1\n",
       "1              1234567.1     12346          20  12345678912    PHARMACY_1\n",
       "2              1234568.1     12347          30  12345678913    PHARMACY_2\n",
       "2              1234569.1     12348          40  12345678913    PHARMACY_2\n",
       "5              1234570.1     12349          30  12345678915             0\n",
       "5              1234571.1     12350          40  12345678916             0"
      ]
     },
     "execution_count": 115,
     "metadata": {},
     "output_type": "execute_result"
    }
   ],
   "source": [
    "Joined"
   ]
  },
  {
   "cell_type": "code",
   "execution_count": 119,
   "metadata": {
    "collapsed": false
   },
   "outputs": [
    {
     "data": {
      "text/html": [
       "<div>\n",
       "<table border=\"1\" class=\"dataframe\">\n",
       "  <thead>\n",
       "    <tr style=\"text-align: right;\">\n",
       "      <th></th>\n",
       "      <th>RX_NUM</th>\n",
       "      <th>RES_CODE</th>\n",
       "      <th>DAYS_SUPPY</th>\n",
       "      <th>NDC</th>\n",
       "      <th>PHARMACY_NAME</th>\n",
       "    </tr>\n",
       "    <tr>\n",
       "      <th>PHARMACY_CODE</th>\n",
       "      <th></th>\n",
       "      <th></th>\n",
       "      <th></th>\n",
       "      <th></th>\n",
       "      <th></th>\n",
       "    </tr>\n",
       "  </thead>\n",
       "  <tbody>\n",
       "    <tr>\n",
       "      <th>2</th>\n",
       "      <td>1234568.1</td>\n",
       "      <td>12347</td>\n",
       "      <td>30</td>\n",
       "      <td>12345678913</td>\n",
       "      <td>PHARMACY_2</td>\n",
       "    </tr>\n",
       "    <tr>\n",
       "      <th>2</th>\n",
       "      <td>1234569.1</td>\n",
       "      <td>12348</td>\n",
       "      <td>40</td>\n",
       "      <td>12345678913</td>\n",
       "      <td>PHARMACY_2</td>\n",
       "    </tr>\n",
       "    <tr>\n",
       "      <th>5</th>\n",
       "      <td>1234570.1</td>\n",
       "      <td>12349</td>\n",
       "      <td>30</td>\n",
       "      <td>12345678915</td>\n",
       "      <td>0</td>\n",
       "    </tr>\n",
       "    <tr>\n",
       "      <th>5</th>\n",
       "      <td>1234571.1</td>\n",
       "      <td>12350</td>\n",
       "      <td>40</td>\n",
       "      <td>12345678916</td>\n",
       "      <td>0</td>\n",
       "    </tr>\n",
       "  </tbody>\n",
       "</table>\n",
       "</div>"
      ],
      "text/plain": [
       "                  RX_NUM  RES_CODE  DAYS_SUPPY          NDC PHARMACY_NAME\n",
       "PHARMACY_CODE                                                            \n",
       "2              1234568.1     12347          30  12345678913    PHARMACY_2\n",
       "2              1234569.1     12348          40  12345678913    PHARMACY_2\n",
       "5              1234570.1     12349          30  12345678915             0\n",
       "5              1234571.1     12350          40  12345678916             0"
      ]
     },
     "execution_count": 119,
     "metadata": {},
     "output_type": "execute_result"
    }
   ],
   "source": [
    "#print rows having DAYS_SUPPLY >=30\n",
    "Joined[Joined['DAYS_SUPPY'] >= 30]"
   ]
  },
  {
   "cell_type": "code",
   "execution_count": 125,
   "metadata": {
    "collapsed": false
   },
   "outputs": [
    {
     "data": {
      "text/html": [
       "<div>\n",
       "<table border=\"1\" class=\"dataframe\">\n",
       "  <thead>\n",
       "    <tr style=\"text-align: right;\">\n",
       "      <th></th>\n",
       "      <th>NDC</th>\n",
       "      <th>DAYS_SUPPY</th>\n",
       "    </tr>\n",
       "    <tr>\n",
       "      <th>PHARMACY_CODE</th>\n",
       "      <th></th>\n",
       "      <th></th>\n",
       "    </tr>\n",
       "  </thead>\n",
       "  <tbody>\n",
       "    <tr>\n",
       "      <th>2</th>\n",
       "      <td>12345678913</td>\n",
       "      <td>30</td>\n",
       "    </tr>\n",
       "    <tr>\n",
       "      <th>2</th>\n",
       "      <td>12345678913</td>\n",
       "      <td>40</td>\n",
       "    </tr>\n",
       "    <tr>\n",
       "      <th>5</th>\n",
       "      <td>12345678915</td>\n",
       "      <td>30</td>\n",
       "    </tr>\n",
       "    <tr>\n",
       "      <th>5</th>\n",
       "      <td>12345678916</td>\n",
       "      <td>40</td>\n",
       "    </tr>\n",
       "  </tbody>\n",
       "</table>\n",
       "</div>"
      ],
      "text/plain": [
       "                       NDC  DAYS_SUPPY\n",
       "PHARMACY_CODE                         \n",
       "2              12345678913          30\n",
       "2              12345678913          40\n",
       "5              12345678915          30\n",
       "5              12345678916          40"
      ]
     },
     "execution_count": 125,
     "metadata": {},
     "output_type": "execute_result"
    }
   ],
   "source": [
    "#print NDC numbers for the rows having Days_Suppy >=30\n",
    "Joined[['NDC','DAYS_SUPPY']][Joined['DAYS_SUPPY'] >= 30]"
   ]
  },
  {
   "cell_type": "code",
   "execution_count": 127,
   "metadata": {
    "collapsed": false
   },
   "outputs": [
    {
     "data": {
      "text/plain": [
       "(6, 5)"
      ]
     },
     "execution_count": 127,
     "metadata": {},
     "output_type": "execute_result"
    }
   ],
   "source": [
    "Joined.shape"
   ]
  },
  {
   "cell_type": "code",
   "execution_count": 128,
   "metadata": {
    "collapsed": true
   },
   "outputs": [],
   "source": [
    "#creating a python dictionary\n",
    "Dict = {'Student_Roll_Num' : [1,2,3], 'Student_Name' : ['ABC','PQR','MNO'], 'Student_Age' : [20,21,23]}"
   ]
  },
  {
   "cell_type": "code",
   "execution_count": 129,
   "metadata": {
    "collapsed": false
   },
   "outputs": [
    {
     "data": {
      "text/plain": [
       "{'Student_Age': [20, 21, 23],\n",
       " 'Student_Name': ['ABC', 'PQR', 'MNO'],\n",
       " 'Student_Roll_Num': [1, 2, 3]}"
      ]
     },
     "execution_count": 129,
     "metadata": {},
     "output_type": "execute_result"
    }
   ],
   "source": [
    "Dict"
   ]
  },
  {
   "cell_type": "code",
   "execution_count": 130,
   "metadata": {
    "collapsed": true
   },
   "outputs": [],
   "source": [
    "#converting dictionary to pandas DataFrame\n",
    "df = pd.DataFrame(Dict)"
   ]
  },
  {
   "cell_type": "code",
   "execution_count": 131,
   "metadata": {
    "collapsed": false
   },
   "outputs": [
    {
     "data": {
      "text/html": [
       "<div>\n",
       "<table border=\"1\" class=\"dataframe\">\n",
       "  <thead>\n",
       "    <tr style=\"text-align: right;\">\n",
       "      <th></th>\n",
       "      <th>Student_Age</th>\n",
       "      <th>Student_Name</th>\n",
       "      <th>Student_Roll_Num</th>\n",
       "    </tr>\n",
       "  </thead>\n",
       "  <tbody>\n",
       "    <tr>\n",
       "      <th>0</th>\n",
       "      <td>20</td>\n",
       "      <td>ABC</td>\n",
       "      <td>1</td>\n",
       "    </tr>\n",
       "    <tr>\n",
       "      <th>1</th>\n",
       "      <td>21</td>\n",
       "      <td>PQR</td>\n",
       "      <td>2</td>\n",
       "    </tr>\n",
       "    <tr>\n",
       "      <th>2</th>\n",
       "      <td>23</td>\n",
       "      <td>MNO</td>\n",
       "      <td>3</td>\n",
       "    </tr>\n",
       "  </tbody>\n",
       "</table>\n",
       "</div>"
      ],
      "text/plain": [
       "   Student_Age Student_Name  Student_Roll_Num\n",
       "0           20          ABC                 1\n",
       "1           21          PQR                 2\n",
       "2           23          MNO                 3"
      ]
     },
     "execution_count": 131,
     "metadata": {},
     "output_type": "execute_result"
    }
   ],
   "source": [
    "df"
   ]
  },
  {
   "cell_type": "code",
   "execution_count": null,
   "metadata": {
    "collapsed": true
   },
   "outputs": [],
   "source": []
  }
 ],
 "metadata": {
  "kernelspec": {
   "display_name": "Python 3",
   "language": "python",
   "name": "python3"
  },
  "language_info": {
   "codemirror_mode": {
    "name": "ipython",
    "version": 3
   },
   "file_extension": ".py",
   "mimetype": "text/x-python",
   "name": "python",
   "nbconvert_exporter": "python",
   "pygments_lexer": "ipython3",
   "version": "3.5.4"
  }
 },
 "nbformat": 4,
 "nbformat_minor": 0
}
